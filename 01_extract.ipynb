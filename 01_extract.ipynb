{
 "cells": [
  {
   "cell_type": "markdown",
   "metadata": {},
   "source": [
    "# Extract data for Elements of Data Science\n",
    "\n",
    "Allen Downey\n",
    "\n",
    "[MIT License](https://en.wikipedia.org/wiki/MIT_License)"
   ]
  },
  {
   "cell_type": "code",
   "execution_count": 2,
   "metadata": {},
   "outputs": [],
   "source": [
    "import pandas as pd\n",
    "import numpy as np\n",
    "import matplotlib.pyplot as plt"
   ]
  },
  {
   "cell_type": "markdown",
   "metadata": {},
   "source": [
    "Download the Stata data from https://gss.norc.org/get-the-data/stata\n",
    "\n",
    "Move to data/raw and unzip\n"
   ]
  },
  {
   "cell_type": "code",
   "execution_count": 3,
   "metadata": {},
   "outputs": [
    {
     "name": "stdout",
     "output_type": "stream",
     "text": [
      "'2022 Release Variables.pdf'\t gss7222_r3a.dta  'Release Notes 7222.pdf'\r\n",
      "'GSS 2022 Codebook.pdf'\t\t gss7222_r3.dta\r\n",
      "\"GSS 2022 - What's New R3.pdf\"\t ReadMe.txt\r\n"
     ]
    }
   ],
   "source": [
    "!ls GSS_stata/"
   ]
  },
  {
   "cell_type": "code",
   "execution_count": 4,
   "metadata": {},
   "outputs": [],
   "source": [
    "filename = \"GSS_stata/gss7222_r3a.dta\""
   ]
  },
  {
   "cell_type": "code",
   "execution_count": 44,
   "metadata": {},
   "outputs": [],
   "source": [
    "columns = sorted(\n",
    "    [\n",
    "        'abany',\n",
    "         'abdefect',\n",
    "         'abhlth',\n",
    "         'abnomore',\n",
    "         'abpoor',\n",
    "         'abrape',\n",
    "         'absingle',\n",
    "         'acqntsex',\n",
    "         'age',\n",
    "         'attend',\n",
    "         'ballot',\n",
    "         'cohort',\n",
    "         'degree',\n",
    "         'discaffm',\n",
    "         'discaffw',\n",
    "         'divorce',\n",
    "         'educ',\n",
    "         'fair',\n",
    "         'fechld',\n",
    "         'fefam',\n",
    "         'fehelp',\n",
    "         'fehire',\n",
    "         'fehome',\n",
    "         'fejobaff',\n",
    "         'fepol',\n",
    "         'fepres',\n",
    "         'fepresch',\n",
    "         'fework',\n",
    "         'frndsex',\n",
    "         'fund',\n",
    "         'hapmar',\n",
    "         'happy',\n",
    "         'health',\n",
    "         'helpful',\n",
    "         'id',\n",
    "         'life',\n",
    "         'matesex',\n",
    "         'othersex',\n",
    "         'paidsex',\n",
    "         'partyid',\n",
    "         'pikupsex',\n",
    "         'polviews',\n",
    "         'race',\n",
    "         'realinc',\n",
    "         'realrinc',\n",
    "         'region',\n",
    "         'relig',\n",
    "         'reliten',\n",
    "         'rincome',\n",
    "         'sex',\n",
    "         'sexbirth',\n",
    "         'sexfreq',\n",
    "         'sexnow',\n",
    "         'sexornt',\n",
    "         'sexsex',\n",
    "         'sexsex5',\n",
    "         'spanking',\n",
    "         'srcbelt',\n",
    "         'trust',\n",
    "         'wtssall',\n",
    "         'wtssps',\n",
    "         'year'\n",
    "    ]\n",
    ")"
   ]
  },
  {
   "cell_type": "code",
   "execution_count": 45,
   "metadata": {},
   "outputs": [],
   "source": [
    "gss = pd.read_stata(filename, columns=columns, convert_categoricals=False)"
   ]
  },
  {
   "cell_type": "code",
   "execution_count": 46,
   "metadata": {},
   "outputs": [
    {
     "data": {
      "text/plain": [
       "count    72390.000000\n",
       "mean         1.000014\n",
       "std          0.550871\n",
       "min          0.073972\n",
       "25%          0.549300\n",
       "50%          0.961700\n",
       "75%          1.098500\n",
       "max         14.272462\n",
       "Name: wtssall, dtype: float64"
      ]
     },
     "execution_count": 46,
     "metadata": {},
     "output_type": "execute_result"
    }
   ],
   "source": [
    "# weights are different in 2021 and 2022 so mixing them in might seem like a bad idea,\n",
    "# but we only use them for resampling within one year of the survey,\n",
    "# so I think it's ok\n",
    "gss[\"wtssall\"] = gss[\"wtssall\"].fillna(gss[\"wtssps\"])\n",
    "gss[\"wtssall\"].describe()"
   ]
  },
  {
   "cell_type": "code",
   "execution_count": 47,
   "metadata": {},
   "outputs": [],
   "source": [
    "del gss[\"wtssps\"]"
   ]
  },
  {
   "cell_type": "code",
   "execution_count": 48,
   "metadata": {},
   "outputs": [
    {
     "name": "stdout",
     "output_type": "stream",
     "text": [
      "(72390, 61)\n"
     ]
    },
    {
     "data": {
      "text/html": [
       "<div>\n",
       "<style scoped>\n",
       "    .dataframe tbody tr th:only-of-type {\n",
       "        vertical-align: middle;\n",
       "    }\n",
       "\n",
       "    .dataframe tbody tr th {\n",
       "        vertical-align: top;\n",
       "    }\n",
       "\n",
       "    .dataframe thead th {\n",
       "        text-align: right;\n",
       "    }\n",
       "</style>\n",
       "<table border=\"1\" class=\"dataframe\">\n",
       "  <thead>\n",
       "    <tr style=\"text-align: right;\">\n",
       "      <th></th>\n",
       "      <th>abany</th>\n",
       "      <th>abdefect</th>\n",
       "      <th>abhlth</th>\n",
       "      <th>abnomore</th>\n",
       "      <th>abpoor</th>\n",
       "      <th>abrape</th>\n",
       "      <th>absingle</th>\n",
       "      <th>acqntsex</th>\n",
       "      <th>age</th>\n",
       "      <th>attend</th>\n",
       "      <th>...</th>\n",
       "      <th>sexfreq</th>\n",
       "      <th>sexnow</th>\n",
       "      <th>sexornt</th>\n",
       "      <th>sexsex</th>\n",
       "      <th>sexsex5</th>\n",
       "      <th>spanking</th>\n",
       "      <th>srcbelt</th>\n",
       "      <th>trust</th>\n",
       "      <th>wtssall</th>\n",
       "      <th>year</th>\n",
       "    </tr>\n",
       "  </thead>\n",
       "  <tbody>\n",
       "    <tr>\n",
       "      <th>0</th>\n",
       "      <td>NaN</td>\n",
       "      <td>1.0</td>\n",
       "      <td>1.0</td>\n",
       "      <td>1.0</td>\n",
       "      <td>1.0</td>\n",
       "      <td>1.0</td>\n",
       "      <td>1.0</td>\n",
       "      <td>NaN</td>\n",
       "      <td>23.0</td>\n",
       "      <td>2.0</td>\n",
       "      <td>...</td>\n",
       "      <td>NaN</td>\n",
       "      <td>NaN</td>\n",
       "      <td>NaN</td>\n",
       "      <td>NaN</td>\n",
       "      <td>NaN</td>\n",
       "      <td>NaN</td>\n",
       "      <td>3.0</td>\n",
       "      <td>3.0</td>\n",
       "      <td>0.4446</td>\n",
       "      <td>1972</td>\n",
       "    </tr>\n",
       "    <tr>\n",
       "      <th>1</th>\n",
       "      <td>NaN</td>\n",
       "      <td>1.0</td>\n",
       "      <td>1.0</td>\n",
       "      <td>2.0</td>\n",
       "      <td>2.0</td>\n",
       "      <td>1.0</td>\n",
       "      <td>1.0</td>\n",
       "      <td>NaN</td>\n",
       "      <td>70.0</td>\n",
       "      <td>7.0</td>\n",
       "      <td>...</td>\n",
       "      <td>NaN</td>\n",
       "      <td>NaN</td>\n",
       "      <td>NaN</td>\n",
       "      <td>NaN</td>\n",
       "      <td>NaN</td>\n",
       "      <td>NaN</td>\n",
       "      <td>3.0</td>\n",
       "      <td>1.0</td>\n",
       "      <td>0.8893</td>\n",
       "      <td>1972</td>\n",
       "    </tr>\n",
       "    <tr>\n",
       "      <th>2</th>\n",
       "      <td>NaN</td>\n",
       "      <td>1.0</td>\n",
       "      <td>1.0</td>\n",
       "      <td>1.0</td>\n",
       "      <td>1.0</td>\n",
       "      <td>1.0</td>\n",
       "      <td>1.0</td>\n",
       "      <td>NaN</td>\n",
       "      <td>48.0</td>\n",
       "      <td>4.0</td>\n",
       "      <td>...</td>\n",
       "      <td>NaN</td>\n",
       "      <td>NaN</td>\n",
       "      <td>NaN</td>\n",
       "      <td>NaN</td>\n",
       "      <td>NaN</td>\n",
       "      <td>NaN</td>\n",
       "      <td>3.0</td>\n",
       "      <td>2.0</td>\n",
       "      <td>0.8893</td>\n",
       "      <td>1972</td>\n",
       "    </tr>\n",
       "    <tr>\n",
       "      <th>3</th>\n",
       "      <td>NaN</td>\n",
       "      <td>2.0</td>\n",
       "      <td>1.0</td>\n",
       "      <td>2.0</td>\n",
       "      <td>1.0</td>\n",
       "      <td>1.0</td>\n",
       "      <td>1.0</td>\n",
       "      <td>NaN</td>\n",
       "      <td>27.0</td>\n",
       "      <td>0.0</td>\n",
       "      <td>...</td>\n",
       "      <td>NaN</td>\n",
       "      <td>NaN</td>\n",
       "      <td>NaN</td>\n",
       "      <td>NaN</td>\n",
       "      <td>NaN</td>\n",
       "      <td>NaN</td>\n",
       "      <td>3.0</td>\n",
       "      <td>2.0</td>\n",
       "      <td>0.8893</td>\n",
       "      <td>1972</td>\n",
       "    </tr>\n",
       "    <tr>\n",
       "      <th>4</th>\n",
       "      <td>NaN</td>\n",
       "      <td>1.0</td>\n",
       "      <td>1.0</td>\n",
       "      <td>1.0</td>\n",
       "      <td>1.0</td>\n",
       "      <td>1.0</td>\n",
       "      <td>1.0</td>\n",
       "      <td>NaN</td>\n",
       "      <td>61.0</td>\n",
       "      <td>0.0</td>\n",
       "      <td>...</td>\n",
       "      <td>NaN</td>\n",
       "      <td>NaN</td>\n",
       "      <td>NaN</td>\n",
       "      <td>NaN</td>\n",
       "      <td>NaN</td>\n",
       "      <td>NaN</td>\n",
       "      <td>3.0</td>\n",
       "      <td>2.0</td>\n",
       "      <td>0.8893</td>\n",
       "      <td>1972</td>\n",
       "    </tr>\n",
       "  </tbody>\n",
       "</table>\n",
       "<p>5 rows × 61 columns</p>\n",
       "</div>"
      ],
      "text/plain": [
       "   abany  abdefect  abhlth  abnomore  abpoor  abrape  absingle  acqntsex  \\\n",
       "0    NaN       1.0     1.0       1.0     1.0     1.0       1.0       NaN   \n",
       "1    NaN       1.0     1.0       2.0     2.0     1.0       1.0       NaN   \n",
       "2    NaN       1.0     1.0       1.0     1.0     1.0       1.0       NaN   \n",
       "3    NaN       2.0     1.0       2.0     1.0     1.0       1.0       NaN   \n",
       "4    NaN       1.0     1.0       1.0     1.0     1.0       1.0       NaN   \n",
       "\n",
       "    age  attend  ...  sexfreq  sexnow  sexornt  sexsex  sexsex5  spanking  \\\n",
       "0  23.0     2.0  ...      NaN     NaN      NaN     NaN      NaN       NaN   \n",
       "1  70.0     7.0  ...      NaN     NaN      NaN     NaN      NaN       NaN   \n",
       "2  48.0     4.0  ...      NaN     NaN      NaN     NaN      NaN       NaN   \n",
       "3  27.0     0.0  ...      NaN     NaN      NaN     NaN      NaN       NaN   \n",
       "4  61.0     0.0  ...      NaN     NaN      NaN     NaN      NaN       NaN   \n",
       "\n",
       "   srcbelt  trust  wtssall  year  \n",
       "0      3.0    3.0   0.4446  1972  \n",
       "1      3.0    1.0   0.8893  1972  \n",
       "2      3.0    2.0   0.8893  1972  \n",
       "3      3.0    2.0   0.8893  1972  \n",
       "4      3.0    2.0   0.8893  1972  \n",
       "\n",
       "[5 rows x 61 columns]"
      ]
     },
     "execution_count": 48,
     "metadata": {},
     "output_type": "execute_result"
    }
   ],
   "source": [
    "print(gss.shape)\n",
    "gss.head()"
   ]
  },
  {
   "cell_type": "markdown",
   "metadata": {},
   "source": [
    "## Inventory"
   ]
  },
  {
   "cell_type": "markdown",
   "metadata": {},
   "source": [
    "fechld \n",
    "\n",
    "A. A working mother can establish just as warm and secure a relationship with her children as a mother who does not work.\n",
    "\n",
    "fefam\n",
    "\n",
    "D. It is much better for everyone involved if the man is the achiever outside the home and the woman takes care of the home and family.\n",
    "\n",
    "fehelp\n",
    "\n",
    "B. It is more important for a wife to help her husband's career than to have one herself.\n",
    "\n",
    "fehire\n",
    "\n",
    "Because of past discrimination, employers should make special efforts to hire and promote qualified women.\n",
    "\n",
    "fehome\n",
    "\n",
    "Women should take care of running their homes and leave running the country up to men.\n",
    "\n",
    "fejobaff\n",
    "\n",
    "Some people say that because of past discrimination, women should be given preference in hiring and promotion. Others say that such preference in hiring and promotion of women is wrong because it discriminates against men. What about your opinion - are you for or against preferential hiring and promotion of women?\n",
    "IF FOR:Do you favor preference in hiring and promotion strongly or not strongly?\n",
    "IF AGAINST:Do you oppose preference in hiring and promotion strongly or not strongly?\n",
    "\n",
    "fepol\n",
    "\n",
    "A. Tell me if you agree or disagree with this statement:  Most men are better suited emotionally for politics than are most women.\n",
    "\n",
    "\n",
    "fepres\n",
    "\n",
    "If your party nominated a woman for President, would you vote for her if she were qualified for the job?\n",
    "\n",
    "fepresch\n",
    "\n",
    "C. A preschool child is likely to suffer if his or her mother works.\n",
    "\n",
    "fework\n",
    "\n",
    "Do you approve or disapprove of a married woman earning money in business or industry if she has a husband capable of supporting her?\n",
    "\n",
    "\n"
   ]
  },
  {
   "cell_type": "code",
   "execution_count": 52,
   "metadata": {},
   "outputs": [
    {
     "data": {
      "text/plain": [
       "['fechld',\n",
       " 'fefam',\n",
       " 'fehelp',\n",
       " 'fehire',\n",
       " 'fehome',\n",
       " 'fejobaff',\n",
       " 'fepol',\n",
       " 'fepres',\n",
       " 'fepresch',\n",
       " 'fework']"
      ]
     },
     "execution_count": 52,
     "metadata": {},
     "output_type": "execute_result"
    }
   ],
   "source": [
    "fe_columns = [x for x in gss.columns if x.startswith('fe')]\n",
    "fe_columns"
   ]
  },
  {
   "cell_type": "code",
   "execution_count": 58,
   "metadata": {},
   "outputs": [
    {
     "data": {
      "text/plain": [
       "10"
      ]
     },
     "execution_count": 58,
     "metadata": {},
     "output_type": "execute_result"
    }
   ],
   "source": [
    "len(fe_columns)"
   ]
  },
  {
   "cell_type": "code",
   "execution_count": 55,
   "metadata": {},
   "outputs": [
    {
     "data": {
      "image/png": "[encoded data removed]",
      "text/plain": [
       "<Figure size 450x262.5 with 1 Axes>"
      ]
     },
     "metadata": {},
     "output_type": "display_data"
    },
    {
     "data": {
      "image/png": "[encoded data removed]",
      "text/plain": [
       "<Figure size 450x262.5 with 1 Axes>"
      ]
     },
     "metadata": {},
     "output_type": "display_data"
    },
    {
     "data": {
      "image/png": "[encoded data removed]",
      "text/plain": [
       "<Figure size 450x262.5 with 1 Axes>"
      ]
     },
     "metadata": {},
     "output_type": "display_data"
    },
    {
     "data": {
      "image/png": "[encoded data removed]",
      "text/plain": [
       "<Figure size 450x262.5 with 1 Axes>"
      ]
     },
     "metadata": {},
     "output_type": "display_data"
    },
    {
     "data": {
      "image/png": "[encoded data removed]",
      "text/plain": [
       "<Figure size 450x262.5 with 1 Axes>"
      ]
     },
     "metadata": {},
     "output_type": "display_data"
    },
    {
     "data": {
      "image/png": "[encoded data removed]",
      "text/plain": [
       "<Figure size 450x262.5 with 1 Axes>"
      ]
     },
     "metadata": {},
     "output_type": "display_data"
    },
    {
     "data": {
      "image/png": "[encoded data removed]",
      "text/plain": [
       "<Figure size 450x262.5 with 1 Axes>"
      ]
     },
     "metadata": {},
     "output_type": "display_data"
    },
    {
     "data": {
      "image/png": "[encoded data removed]",
      "text/plain": [
       "<Figure size 450x262.5 with 1 Axes>"
      ]
     },
     "metadata": {},
     "output_type": "display_data"
    },
    {
     "data": {
      "image/png": "[encoded data removed]",
      "text/plain": [
       "<Figure size 450x262.5 with 1 Axes>"
      ]
     },
     "metadata": {},
     "output_type": "display_data"
    },
    {
     "data": {
      "image/png": "[encoded data removed]",
      "text/plain": [
       "<Figure size 450x262.5 with 1 Axes>"
      ]
     },
     "metadata": {},
     "output_type": "display_data"
    }
   ],
   "source": [
    "from utils import decorate\n",
    "\n",
    "grouped = gss.groupby('year')\n",
    "\n",
    "for col in fe_columns:\n",
    "    plt.figure()\n",
    "    grouped[col].count().plot.bar()\n",
    "    decorate()"
   ]
  },
  {
   "cell_type": "markdown",
   "metadata": {},
   "source": [
    "Most are on a four point scale:\n",
    "\n",
    "```\n",
    "1\tSTRONGLY AGREE\t\n",
    "2\tAGREE\t\n",
    "3\tDISAGREE\t\n",
    "4\tSTRONGLY DISAGREE\n",
    "```\n",
    "\n",
    "`fehire` is on a five-point scale\n",
    "\n",
    "```\n",
    "1\tSTRONGLY AGREE\n",
    "2\tAGREE\t\n",
    "3\tNEITHER AGREE NOR DISAGREE\t\n",
    "4\tDISAGREE\t\n",
    "5\tSTRONGLY DISAGREE\n",
    "```\n",
    "Some are on a two-point scale"
   ]
  },
  {
   "cell_type": "code",
   "execution_count": 56,
   "metadata": {},
   "outputs": [
    {
     "name": "stdout",
     "output_type": "stream",
     "text": [
      "fechld\n",
      "1.0     9240\n",
      "2.0    15202\n",
      "3.0     8666\n",
      "4.0     2342\n",
      "NaN    36940\n",
      "Name: count, dtype: int64\n",
      "fefam\n",
      "1.0     2810\n",
      "2.0     9839\n",
      "3.0    15198\n",
      "4.0     7284\n",
      "NaN    37259\n",
      "Name: count, dtype: int64\n",
      "fehelp\n",
      "1.0      769\n",
      "2.0     3769\n",
      "3.0     7732\n",
      "4.0     3041\n",
      "NaN    57079\n",
      "Name: count, dtype: int64\n",
      "fehire\n",
      "1.0     2817\n",
      "2.0     5945\n",
      "3.0     2048\n",
      "4.0     2389\n",
      "5.0      580\n",
      "NaN    58611\n",
      "Name: count, dtype: int64\n",
      "fehome\n",
      "1.0     5424\n",
      "2.0    17114\n",
      "NaN    49852\n",
      "Name: count, dtype: int64\n",
      "fejobaff\n",
      "1.0     2299\n",
      "2.0     1311\n",
      "3.0     2906\n",
      "4.0     3936\n",
      "NaN    61938\n",
      "Name: count, dtype: int64\n",
      "fepol\n",
      "1.0     9982\n",
      "2.0    25715\n",
      "NaN    36693\n",
      "Name: count, dtype: int64\n",
      "fepres\n",
      "1.0    23257\n",
      "2.0     3531\n",
      "5.0        4\n",
      "NaN    45598\n",
      "Name: count, dtype: int64\n",
      "fepresch\n",
      "1.0     2817\n",
      "2.0    11254\n",
      "3.0    16303\n",
      "4.0     4731\n",
      "NaN    37285\n",
      "Name: count, dtype: int64\n",
      "fework\n",
      "1.0    18753\n",
      "2.0     5648\n",
      "NaN    47989\n",
      "Name: count, dtype: int64\n"
     ]
    }
   ],
   "source": [
    "from utils import values\n",
    "\n",
    "for col in fe_columns:\n",
    "    print(values(gss[col]))"
   ]
  },
  {
   "cell_type": "code",
   "execution_count": 59,
   "metadata": {},
   "outputs": [],
   "source": [
    "four_point = ['fechld', 'fefam', 'fehelp', 'fejobaff', 'fepresch'] \n",
    "five_point = ['fehire']\n",
    "\n",
    "two_point = ['fepol', 'fehome', 'fework'] + ['fepres']"
   ]
  },
  {
   "cell_type": "markdown",
   "metadata": {},
   "source": [
    "fepol and fehome: 1 agree, 2 disagree\n",
    "\n",
    "fework: 1 approve, 2 disapprove\n",
    "\n",
    "fepres: 1 yes 2 no 5 would not vote -- let's replace 5 with no"
   ]
  },
  {
   "cell_type": "code",
   "execution_count": 61,
   "metadata": {},
   "outputs": [
    {
     "data": {
      "text/plain": [
       "fepres\n",
       "1.0    23257\n",
       "2.0     3535\n",
       "NaN    45598\n",
       "Name: count, dtype: int64"
      ]
     },
     "execution_count": 61,
     "metadata": {},
     "output_type": "execute_result"
    }
   ],
   "source": [
    "gss['fepres'] = gss['fepres'].replace(5, 2)\n",
    "values(gss['fepres'])"
   ]
  },
  {
   "cell_type": "markdown",
   "metadata": {},
   "source": [
    "## Write extracts"
   ]
  },
  {
   "cell_type": "code",
   "execution_count": 49,
   "metadata": {},
   "outputs": [],
   "source": [
    "!rm -f gss_eds_2022.hdf"
   ]
  },
  {
   "cell_type": "code",
   "execution_count": 50,
   "metadata": {},
   "outputs": [],
   "source": [
    "gss.to_hdf(\"gss_feminism_2022.hdf\", key=\"gss\", complevel=6)"
   ]
  },
  {
   "cell_type": "code",
   "execution_count": 51,
   "metadata": {},
   "outputs": [
    {
     "name": "stdout",
     "output_type": "stream",
     "text": [
      "-rw-rw-r-- 1 downey downey 3.2M May 31 09:19 gss_feminism_2022.hdf\r\n"
     ]
    }
   ],
   "source": [
    "!ls -lh gss_feminism_2022.hdf"
   ]
  },
  {
   "cell_type": "markdown",
   "metadata": {},
   "source": [
    "Resample"
   ]
  },
  {
   "cell_type": "code",
   "execution_count": 18,
   "metadata": {},
   "outputs": [],
   "source": [
    "from utils import resample_by_year"
   ]
  },
  {
   "cell_type": "code",
   "execution_count": 19,
   "metadata": {},
   "outputs": [],
   "source": [
    "sample = resample_by_year(gss, \"wtssall\")"
   ]
  },
  {
   "cell_type": "code",
   "execution_count": 20,
   "metadata": {},
   "outputs": [
    {
     "name": "stdout",
     "output_type": "stream",
     "text": [
      "rm: cannot remove 'gss_feminism_resampled.hdf': No such file or directory\r\n"
     ]
    }
   ],
   "source": [
    "!rm gss_feminism_resampled.hdf"
   ]
  },
  {
   "cell_type": "code",
   "execution_count": 21,
   "metadata": {},
   "outputs": [],
   "source": [
    "sample.to_hdf(\"gss_feminism_resampled.hdf\", key=\"gss\", complevel=6)"
   ]
  },
  {
   "cell_type": "code",
   "execution_count": 22,
   "metadata": {},
   "outputs": [
    {
     "name": "stdout",
     "output_type": "stream",
     "text": [
      "-rw-rw-r-- 1 downey downey 3.3M May 31 08:59 gss_feminism_resampled.hdf\r\n"
     ]
    }
   ],
   "source": [
    "!ls -lh gss_feminism_resampled.hdf"
   ]
  },
  {
   "cell_type": "code",
   "execution_count": null,
   "metadata": {},
   "outputs": [],
   "source": []
  }
 ],
 "metadata": {
  "interpreter": {
   "hash": "af43c3c4197469e42a8c620d17365aec73541d988a414c33dbec45347513dfbc"
  },
  "kernelspec": {
   "display_name": "Python 3 (ipykernel)",
   "language": "python",
   "name": "python3"
  },
  "language_info": {
   "codemirror_mode": {
    "name": "ipython",
    "version": 3
   },
   "file_extension": ".py",
   "mimetype": "text/x-python",
   "name": "python",
   "nbconvert_exporter": "python",
   "pygments_lexer": "ipython3",
   "version": "3.10.14"
  }
 },
 "nbformat": 4,
 "nbformat_minor": 1
}

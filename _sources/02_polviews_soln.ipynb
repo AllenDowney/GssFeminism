{
 "cells": [
  {
   "cell_type": "markdown",
   "metadata": {},
   "source": [
    "# Political Alignment and Polarization"
   ]
  },
  {
   "cell_type": "markdown",
   "metadata": {
    "tags": [
     "remove-print"
    ]
   },
   "source": [
    "This is the second in a series of notebooks that make up a [case study in exploratory data analysis](https://allendowney.github.io/PoliticalAlignmentCaseStudy/).\n",
    "This case study is part of the [*Elements of Data Science*](https://allendowney.github.io/ElementsOfDataScience/) curriculum.\n",
    "[Click here to run this notebook on Colab](https://colab.research.google.com/github/AllenDowney/PoliticalAlignmentCaseStudy/blob/v1/02_polviews.ipynb)."
   ]
  },
  {
   "cell_type": "code",
   "execution_count": 1,
   "metadata": {
    "tags": [
     "remove-cell"
    ]
   },
   "outputs": [],
   "source": [
    "from os.path import basename, exists\n",
    "\n",
    "def download(url):\n",
    "    filename = basename(url)\n",
    "    if not exists(filename):\n",
    "        from urllib.request import urlretrieve\n",
    "\n",
    "        local, _ = urlretrieve(url, filename)\n",
    "        print(\"Downloaded \" + local)\n",
    "\n",
    "download(\"https://github.com/AllenDowney/PoliticalAlignmentCaseStudy/raw/v1/utils.py\")"
   ]
  },
  {
   "cell_type": "markdown",
   "metadata": {},
   "source": [
    "This chapter and the next make up a case study that uses data from the General Social Survey (GSS) to explore political beliefs and political alignment (conservative, moderate, or liberal) in the United States.\n",
    "In this chapter, we will:\n",
    "\n",
    "1. Compare the distributions of political alignment from 1974 and 2022.\n",
    "\n",
    "2. Plot the mean and standard deviation of responses over time as a way of quantifying shifts in political alignment and polarization.\n",
    "\n",
    "3. Use local regression to plot a smooth line through noisy data.\n",
    "\n",
    "4. Use cross tabulation to compute the fraction of respondents in each category over time.\n",
    "\n",
    "5. Plot the results using a custom color palette.\n",
    "\n",
    "As an exercise, you will look at changes in political party affiliation over the same period.\n",
    "In the next chapter, we'll use the same dataset to explore the relationship between political alignment and other attitudes and beliefs."
   ]
  },
  {
   "cell_type": "markdown",
   "metadata": {
    "tags": [
     "remove-cell"
    ]
   },
   "source": [
    "The following cell installs the `empiricaldist` library if necessary."
   ]
  },
  {
   "cell_type": "code",
   "execution_count": 2,
   "metadata": {
    "tags": [
     "remove-cell"
    ]
   },
   "outputs": [],
   "source": [
    "try:\n",
    "    import empiricaldist\n",
    "except ImportError:\n",
    "    !pip install empiricaldist"
   ]
  },
  {
   "cell_type": "markdown",
   "metadata": {
    "tags": [
     "remove-cell"
    ]
   },
   "source": [
    "If everything we need is installed, the following cell should run without error."
   ]
  },
  {
   "cell_type": "code",
   "execution_count": 3,
   "metadata": {
    "tags": [
     "remove-cell"
    ]
   },
   "outputs": [],
   "source": [
    "import pandas as pd\n",
    "import numpy as np\n",
    "import matplotlib.pyplot as plt\n",
    "import seaborn as sns\n",
    "\n",
    "from empiricaldist import Pmf"
   ]
  },
  {
   "cell_type": "markdown",
   "metadata": {
    "tags": [
     "remove-print"
    ]
   },
   "source": [
    "## Loading the data\n",
    "\n",
    "In the previous notebook, we downloaded GSS data, loaded and cleaned it, resampled it to correct for stratified sampling, and then saved the data in an HDF file, which is much faster to load.  In this and the following notebooks, we'll download the HDF file and load it."
   ]
  },
  {
   "cell_type": "markdown",
   "metadata": {
    "tags": [
     "remove-cell"
    ]
   },
   "source": [
    "The following cell downloads the data file if necessary."
   ]
  },
  {
   "cell_type": "code",
   "execution_count": 4,
   "metadata": {
    "tags": [
     "remove-cell"
    ]
   },
   "outputs": [],
   "source": [
    "download(\n",
    "    \"https://github.com/AllenDowney/PoliticalAlignmentCaseStudy/raw/v1/gss_pacs_resampled.hdf\"\n",
    ")"
   ]
  },
  {
   "cell_type": "markdown",
   "metadata": {},
   "source": [
    "We'll use an extract of the data that I have cleaned and resampled to correct for stratified sampling.\n",
    "Instructions for downloading the file are in the notebook for this chapter.\n",
    "It contains three resamplings -- we'll use the first, `gss0`, to get started."
   ]
  },
  {
   "cell_type": "code",
   "execution_count": 5,
   "metadata": {},
   "outputs": [
    {
     "data": {
      "text/plain": [
       "(72390, 207)"
      ]
     },
     "execution_count": 5,
     "metadata": {},
     "output_type": "execute_result"
    }
   ],
   "source": [
    "datafile = \"gss_pacs_resampled.hdf\"\n",
    "gss = pd.read_hdf(datafile, \"gss0\")\n",
    "gss.shape"
   ]
  },
  {
   "cell_type": "markdown",
   "metadata": {},
   "source": [
    "## Political Alignment\n",
    "\n",
    "The people surveyed for the GSS were asked about their \"political alignment\", which is where they place themselves on a spectrum from liberal to conservative.\n",
    "The variable `polviews` contains responses to the following question:\n",
    "\n",
    "> We hear a lot of talk these days about liberals and conservatives. \n",
    "I'm going to show you a seven-point scale on which the political views that people might hold are arranged from extremely liberal--point 1--to extremely conservative--point 7. Where would you place yourself on this scale?"
   ]
  },
  {
   "cell_type": "markdown",
   "metadata": {},
   "source": [
    "Here are the valid responses:\n",
    "\n",
    "| Code  | Response                 |\n",
    "|-------|:-------------------------|\n",
    "|   1   | Extremely liberal        |\n",
    "|   2   | Liberal                  |\n",
    "|   3   | Slightly liberal         |\n",
    "|   4   | Moderate                 |\n",
    "|   5   | Slightly conservative    |\n",
    "|   6   | Conservative             |\n",
    "|   7   | Extremely conservative   |\n",
    "\n",
    "\n",
    "To see how the responses have changed over time, we'll inspect them at the beginning and end of the observation period.\n",
    "First we'll select the column."
   ]
  },
  {
   "cell_type": "code",
   "execution_count": 6,
   "metadata": {},
   "outputs": [],
   "source": [
    "polviews = gss[\"polviews\"]"
   ]
  },
  {
   "cell_type": "markdown",
   "metadata": {},
   "source": [
    "Then we can make a Boolean Series that's `True` for responses from 1974."
   ]
  },
  {
   "cell_type": "code",
   "execution_count": 7,
   "metadata": {},
   "outputs": [],
   "source": [
    "year74 = gss[\"year\"] == 1974"
   ]
  },
  {
   "cell_type": "markdown",
   "metadata": {},
   "source": [
    "Now we can select the responses from 1974."
   ]
  },
  {
   "cell_type": "code",
   "execution_count": 8,
   "metadata": {},
   "outputs": [],
   "source": [
    "polviews74 = polviews[year74]"
   ]
  },
  {
   "cell_type": "markdown",
   "metadata": {},
   "source": [
    "We'll use the following function to count the number of times each response occurs."
   ]
  },
  {
   "cell_type": "code",
   "execution_count": 9,
   "metadata": {},
   "outputs": [],
   "source": [
    "def values(series):\n",
    "    \"\"\"Count the values and sort.\n",
    "\n",
    "    series: pd.Series\n",
    "\n",
    "    returns: series mapping from values to frequencies\n",
    "    \"\"\"\n",
    "    return series.value_counts().sort_index()"
   ]
  },
  {
   "cell_type": "markdown",
   "metadata": {},
   "source": [
    "Here are the responses from 1974."
   ]
  },
  {
   "cell_type": "code",
   "execution_count": 10,
   "metadata": {},
   "outputs": [
    {
     "data": {
      "text/plain": [
       "1.0     31\n",
       "2.0    201\n",
       "3.0    211\n",
       "4.0    538\n",
       "5.0    223\n",
       "6.0    181\n",
       "7.0     30\n",
       "Name: polviews, dtype: int64"
      ]
     },
     "execution_count": 10,
     "metadata": {},
     "output_type": "execute_result"
    }
   ],
   "source": [
    "values(polviews74)"
   ]
  },
  {
   "cell_type": "markdown",
   "metadata": {},
   "source": [
    "And here are the responses from 2022."
   ]
  },
  {
   "cell_type": "code",
   "execution_count": 11,
   "metadata": {},
   "outputs": [
    {
     "data": {
      "text/plain": [
       "1.0     184\n",
       "2.0     433\n",
       "3.0     391\n",
       "4.0    1207\n",
       "5.0     472\n",
       "6.0     548\n",
       "7.0     194\n",
       "Name: polviews, dtype: int64"
      ]
     },
     "execution_count": 11,
     "metadata": {},
     "output_type": "execute_result"
    }
   ],
   "source": [
    "year22 = gss[\"year\"] == 2022\n",
    "polviews22 = polviews[year22]\n",
    "values(polviews22)"
   ]
  },
  {
   "cell_type": "markdown",
   "metadata": {},
   "source": [
    "Looking at these counts, we can get an idea of what the distributions look like, but in the next section we'll get a clearer picture by plotting them."
   ]
  },
  {
   "cell_type": "markdown",
   "metadata": {},
   "source": [
    "## Visualizing Distributions\n",
    "\n",
    "To visualize these distributions, we'll use a Probability Mass Function (PMF), which is similar to a histogram, but there are two differences:\n",
    "\n",
    "* In a histogram, values are often put in bins, with more than one value in each bin. In a PMF each value gets its own bin.\n",
    "\n",
    "* A histogram computes a count, that is, how many times each value appears; a PMF computes a probability, that is, what fraction of the time each value appears. \n",
    "\n",
    "We'll use the `Pmf` class from `empiricaldist` to compute a PMF."
   ]
  },
  {
   "cell_type": "code",
   "execution_count": 12,
   "metadata": {},
   "outputs": [
    {
     "data": {
      "text/html": [
       "<div>\n",
       "<style scoped>\n",
       "    .dataframe tbody tr th:only-of-type {\n",
       "        vertical-align: middle;\n",
       "    }\n",
       "\n",
       "    .dataframe tbody tr th {\n",
       "        vertical-align: top;\n",
       "    }\n",
       "\n",
       "    .dataframe thead th {\n",
       "        text-align: right;\n",
       "    }\n",
       "</style>\n",
       "<table border=\"1\" class=\"dataframe\">\n",
       "  <thead>\n",
       "    <tr style=\"text-align: right;\">\n",
       "      <th></th>\n",
       "      <th>probs</th>\n",
       "    </tr>\n",
       "  </thead>\n",
       "  <tbody>\n",
       "    <tr>\n",
       "      <th>1.0</th>\n",
       "      <td>0.021908</td>\n",
       "    </tr>\n",
       "    <tr>\n",
       "      <th>2.0</th>\n",
       "      <td>0.142049</td>\n",
       "    </tr>\n",
       "    <tr>\n",
       "      <th>3.0</th>\n",
       "      <td>0.149117</td>\n",
       "    </tr>\n",
       "    <tr>\n",
       "      <th>4.0</th>\n",
       "      <td>0.380212</td>\n",
       "    </tr>\n",
       "    <tr>\n",
       "      <th>5.0</th>\n",
       "      <td>0.157597</td>\n",
       "    </tr>\n",
       "    <tr>\n",
       "      <th>6.0</th>\n",
       "      <td>0.127915</td>\n",
       "    </tr>\n",
       "    <tr>\n",
       "      <th>7.0</th>\n",
       "      <td>0.021201</td>\n",
       "    </tr>\n",
       "  </tbody>\n",
       "</table>\n",
       "</div>"
      ],
      "text/plain": [
       "1.0    0.021908\n",
       "2.0    0.142049\n",
       "3.0    0.149117\n",
       "4.0    0.380212\n",
       "5.0    0.157597\n",
       "6.0    0.127915\n",
       "7.0    0.021201\n",
       "Name: , dtype: float64"
      ]
     },
     "execution_count": 12,
     "metadata": {},
     "output_type": "execute_result"
    }
   ],
   "source": [
    "from empiricaldist import Pmf\n",
    "\n",
    "pmf74 = Pmf.from_seq(polviews74)\n",
    "pmf74"
   ]
  },
  {
   "cell_type": "markdown",
   "metadata": {},
   "source": [
    "The following cell imports a function we'll use to decorate the axes in plots."
   ]
  },
  {
   "cell_type": "code",
   "execution_count": 13,
   "metadata": {},
   "outputs": [],
   "source": [
    "from utils import decorate"
   ]
  },
  {
   "cell_type": "markdown",
   "metadata": {},
   "source": [
    "Here's the distribution from 1974:"
   ]
  },
  {
   "cell_type": "code",
   "execution_count": 14,
   "metadata": {},
   "outputs": [
    {
     "data": {
      "image/png": "[encoded data removed]",
      "text/plain": [
       "<Figure size 450x262.5 with 1 Axes>"
      ]
     },
     "metadata": {},
     "output_type": "display_data"
    }
   ],
   "source": [
    "pmf74.bar(label=\"1974\", color=\"C0\", alpha=0.7)\n",
    "\n",
    "decorate(\n",
    "    xlabel=\"Political view on a 7-point scale\",\n",
    "    ylabel=\"Fraction of respondents\",\n",
    "    title=\"Distribution of political views\",\n",
    ")"
   ]
  },
  {
   "cell_type": "markdown",
   "metadata": {},
   "source": [
    "And from 2022:"
   ]
  },
  {
   "cell_type": "code",
   "execution_count": 15,
   "metadata": {},
   "outputs": [
    {
     "data": {
      "image/png": "[encoded data removed]",
      "text/plain": [
       "<Figure size 450x262.5 with 1 Axes>"
      ]
     },
     "metadata": {},
     "output_type": "display_data"
    }
   ],
   "source": [
    "pmf22 = Pmf.from_seq(polviews22)\n",
    "pmf22.bar(label=\"2021\", color=\"C1\", alpha=0.7)\n",
    "\n",
    "decorate(\n",
    "    xlabel=\"Political view on a 7-point scale\",\n",
    "    ylabel=\"Fraction of respondents\",\n",
    "    title=\"Distribution of political views\",\n",
    ")"
   ]
  },
  {
   "cell_type": "markdown",
   "metadata": {},
   "source": [
    "In both cases, the most common response is `4`, which is the code for \"moderate\".  Few respondents describe themselves as \"extremely\" liberal or conservative.\n",
    "So maybe we're not so polarized after all."
   ]
  },
  {
   "cell_type": "markdown",
   "metadata": {
    "tags": [
     "remove-print"
    ]
   },
   "source": [
    "To make it easier to compare the distributions, I'll plot them side by side.  "
   ]
  },
  {
   "cell_type": "code",
   "execution_count": 16,
   "metadata": {
    "tags": [
     "remove-print"
    ]
   },
   "outputs": [
    {
     "data": {
      "image/png": "[encoded data removed]",
      "text/plain": [
       "<Figure size 450x262.5 with 1 Axes>"
      ]
     },
     "metadata": {},
     "output_type": "display_data"
    }
   ],
   "source": [
    "d = dict(pmf74=pmf74, pmf22=pmf22)\n",
    "\n",
    "df = pd.DataFrame(d)\n",
    "df.plot(kind=\"bar\")\n",
    "\n",
    "decorate(\n",
    "    xlabel=\"Political view on a 7-point scale\",\n",
    "    ylabel=\"Fraction of respondents\",\n",
    "    title=\"Distribution of political views\",\n",
    ")"
   ]
  },
  {
   "cell_type": "markdown",
   "metadata": {
    "tags": [
     "remove-print"
    ]
   },
   "source": [
    "Now we can see the changes in the distribution more clearly.  It looks like the number of people at the extremes (1 and 7) has increased, and the fraction of slightly liberal (3) and slightly conservative (5) has decreased."
   ]
  },
  {
   "cell_type": "markdown",
   "metadata": {},
   "source": [
    "**Exercise:** To summarize these changes, we can compare the mean and standard deviation of `polviews` in 1974 and 2022.\n",
    "The mean of the responses measures the balance of people in the population with liberal or conservative leanings.\n",
    "If the mean increases over time, that might indicate a shift in the population toward conservatism.\n",
    "The standard deviation measures the dispersion of views in the population -- if it increases over time, that might indicate an increase in polarization.\n",
    "\n",
    "Compute the mean and standard deviation of `polviews74` and `polviews22`.\n",
    "What do they indicate about changes over this interval?"
   ]
  },
  {
   "cell_type": "code",
   "execution_count": 17,
   "metadata": {
    "tags": [
     "remove-cell"
    ]
   },
   "outputs": [
    {
     "data": {
      "text/plain": [
       "(3.9780918727915195, 1.3324162225592249)"
      ]
     },
     "execution_count": 17,
     "metadata": {},
     "output_type": "execute_result"
    }
   ],
   "source": [
    "# Solution\n",
    "\n",
    "polviews74.mean(), polviews74.std()"
   ]
  },
  {
   "cell_type": "code",
   "execution_count": 18,
   "metadata": {
    "tags": [
     "remove-cell"
    ]
   },
   "outputs": [
    {
     "data": {
      "text/plain": [
       "(4.099445902595509, 1.5423890895690442)"
      ]
     },
     "execution_count": 18,
     "metadata": {},
     "output_type": "execute_result"
    }
   ],
   "source": [
    "# Solution\n",
    "\n",
    "polviews22.mean(), polviews22.std()"
   ]
  },
  {
   "cell_type": "code",
   "execution_count": 19,
   "metadata": {
    "tags": [
     "remove-cell"
    ]
   },
   "outputs": [],
   "source": [
    "# Solution\n",
    "\n",
    "# The mean has barely changed, which indicates no\n",
    "# net shift toward liberal or conservate identity.\n",
    "\n",
    "# The standard deviation has increased,\n",
    "# which suggests increased polarization."
   ]
  },
  {
   "cell_type": "markdown",
   "metadata": {},
   "source": [
    "## Plotting a Time Series\n",
    "\n",
    "At this point we have looked at the endpoints, 1974 and 2022, but we don't know what happened in between.\n",
    "To see how the distribution changed over time, we can group by year and compute the mean of `polviews` during each year.\n",
    "We can use `groupby` to group the respondents by year."
   ]
  },
  {
   "cell_type": "code",
   "execution_count": 20,
   "metadata": {},
   "outputs": [
    {
     "data": {
      "text/plain": [
       "pandas.core.groupby.generic.DataFrameGroupBy"
      ]
     },
     "execution_count": 20,
     "metadata": {},
     "output_type": "execute_result"
    }
   ],
   "source": [
    "gss_by_year = gss.groupby(\"year\")\n",
    "type(gss_by_year)"
   ]
  },
  {
   "cell_type": "markdown",
   "metadata": {},
   "source": [
    "The result is a `DataFrameGroupBy` object that represents a collection of groups."
   ]
  },
  {
   "cell_type": "markdown",
   "metadata": {
    "tags": [
     "remove-print"
    ]
   },
   "source": [
    "We can loop through the groups and display the number of respondents in each:"
   ]
  },
  {
   "cell_type": "code",
   "execution_count": 21,
   "metadata": {
    "tags": [
     "remove-print"
    ]
   },
   "outputs": [
    {
     "name": "stdout",
     "output_type": "stream",
     "text": [
      "1972 1613\n",
      "1973 1504\n",
      "1974 1484\n",
      "1975 1490\n",
      "1976 1499\n",
      "1977 1530\n",
      "1978 1532\n",
      "1980 1468\n",
      "1982 1860\n",
      "1983 1599\n",
      "1984 1473\n",
      "1985 1534\n",
      "1986 1470\n",
      "1987 1819\n",
      "1988 1481\n",
      "1989 1537\n",
      "1990 1372\n",
      "1991 1517\n",
      "1993 1606\n",
      "1994 2992\n",
      "1996 2904\n",
      "1998 2832\n",
      "2000 2817\n",
      "2002 2765\n",
      "2004 2812\n",
      "2006 4510\n",
      "2008 2023\n",
      "2010 2044\n",
      "2012 1974\n",
      "2014 2538\n",
      "2016 2867\n",
      "2018 2348\n",
      "2021 4032\n",
      "2022 3544\n"
     ]
    }
   ],
   "source": [
    "for year, group in gss_by_year:\n",
    "    print(year, len(group))"
   ]
  },
  {
   "cell_type": "markdown",
   "metadata": {},
   "source": [
    "In many ways the `DataFrameGroupBy` behaves like a `DataFrame`.  We can use the bracket operator to select a column: "
   ]
  },
  {
   "cell_type": "code",
   "execution_count": 22,
   "metadata": {},
   "outputs": [
    {
     "data": {
      "text/plain": [
       "pandas.core.groupby.generic.SeriesGroupBy"
      ]
     },
     "execution_count": 22,
     "metadata": {},
     "output_type": "execute_result"
    }
   ],
   "source": [
    "polviews_by_year = gss_by_year[\"polviews\"]\n",
    "type(polviews_by_year)"
   ]
  },
  {
   "cell_type": "markdown",
   "metadata": {},
   "source": [
    "A column from a `DataFrameGroupBy` is a `SeriesGroupBy`.  If we invoke `mean` on it, the results is a series that contains the mean of `polviews` for each year of the survey."
   ]
  },
  {
   "cell_type": "code",
   "execution_count": 23,
   "metadata": {},
   "outputs": [],
   "source": [
    "mean_series = polviews_by_year.mean()"
   ]
  },
  {
   "cell_type": "markdown",
   "metadata": {},
   "source": [
    "And here's what it looks like."
   ]
  },
  {
   "cell_type": "code",
   "execution_count": 24,
   "metadata": {},
   "outputs": [
    {
     "data": {
      "image/png": "[encoded data removed]",
      "text/plain": [
       "<Figure size 450x262.5 with 1 Axes>"
      ]
     },
     "metadata": {},
     "output_type": "display_data"
    }
   ],
   "source": [
    "mean_series.plot(color=\"C2\", label=\"polviews\")\n",
    "decorate(xlabel=\"Year\", ylabel=\"Mean (7 point scale)\", title=\"Mean of polviews\")"
   ]
  },
  {
   "cell_type": "markdown",
   "metadata": {},
   "source": [
    "It looks like the mean increased between 1974 and 2000, decreased since then, and ended up almost where it started.\n",
    "The difference between the highest and lowest points is only 0.3 points on a 7-point scale, so none of these changes are drastic. "
   ]
  },
  {
   "cell_type": "code",
   "execution_count": 25,
   "metadata": {},
   "outputs": [
    {
     "data": {
      "text/plain": [
       "0.34240143126104083"
      ]
     },
     "execution_count": 25,
     "metadata": {},
     "output_type": "execute_result"
    }
   ],
   "source": [
    "mean_series.max() - mean_series.min()"
   ]
  },
  {
   "cell_type": "markdown",
   "metadata": {},
   "source": [
    "**Exercise:** The standard deviation quantifies the spread of the distribution, which is one way to measure polarization.\n",
    "Plot standard deviation of `polviews` for each year of the survey from 1972 to 2022.\n",
    "Does it show evidence of increasing polarization?"
   ]
  },
  {
   "cell_type": "code",
   "execution_count": 26,
   "metadata": {
    "tags": [
     "remove-cell"
    ]
   },
   "outputs": [
    {
     "data": {
      "image/png": "[encoded data removed]",
      "text/plain": [
       "<Figure size 450x262.5 with 1 Axes>"
      ]
     },
     "metadata": {},
     "output_type": "display_data"
    }
   ],
   "source": [
    "# Solution\n",
    "\n",
    "std_series = gss_by_year[\"polviews\"].std()\n",
    "std_series.plot(color=\"C4\", label=\"polviews\")\n",
    "decorate(ylabel=\"Standard deviation (7 point scale)\",\n",
    "         title=\"Standard deviation of polviews\")"
   ]
  },
  {
   "cell_type": "code",
   "execution_count": 27,
   "metadata": {
    "tags": [
     "remove-cell"
    ]
   },
   "outputs": [],
   "source": [
    "# Solution\n",
    "\n",
    "# The standard deviation has increased consistently over the entire interval.\n",
    "# But the difference between the highest and lowest points is small.\n",
    "# So if polarization is increasing, it is not a recent phenomenon, and it\n",
    "# is not changing quickly."
   ]
  },
  {
   "cell_type": "markdown",
   "metadata": {},
   "source": [
    "## Smoothing the Curve\n",
    "\n",
    "In the previous section we plotted mean and standard deviation of `polviews` over time.\n",
    "In both plots, the values are highly variable from year to year.\n",
    "We can use **local regression** to compute a smooth line through these data points.  \n",
    "\n",
    "The following function takes a Pandas `Series` and uses an algorithm called LOWESS to compute a smooth line.\n",
    "LOWESS stands for \"locally weighted scatterplot smoothing\"."
   ]
  },
  {
   "cell_type": "code",
   "execution_count": 28,
   "metadata": {},
   "outputs": [],
   "source": [
    "from statsmodels.nonparametric.smoothers_lowess import lowess\n",
    "\n",
    "def make_lowess(series):\n",
    "    \"\"\"Use LOWESS to compute a smooth line.\n",
    "\n",
    "    series: pd.Series\n",
    "\n",
    "    returns: pd.Series\n",
    "    \"\"\"\n",
    "    y = series.values\n",
    "    x = series.index.values\n",
    "\n",
    "    smooth = lowess(y, x)\n",
    "    index, data = np.transpose(smooth)\n",
    "\n",
    "    return pd.Series(data, index=index)"
   ]
  },
  {
   "cell_type": "markdown",
   "metadata": {},
   "source": [
    "We'll use the following function to plot data points and the smoothed line."
   ]
  },
  {
   "cell_type": "code",
   "execution_count": 29,
   "metadata": {},
   "outputs": [],
   "source": [
    "def plot_series_lowess(series, color):\n",
    "    \"\"\"Plots a series of data points and a smooth line.\n",
    "\n",
    "    series: pd.Series\n",
    "    color: string or tuple\n",
    "    \"\"\"\n",
    "    series.plot(linewidth=0, marker=\"o\", color=color, alpha=0.5)\n",
    "    smooth = make_lowess(series)\n",
    "    smooth.plot(label=\"\", color=color)"
   ]
  },
  {
   "cell_type": "markdown",
   "metadata": {},
   "source": [
    "The following figure shows the mean of `polviews` and a smooth line."
   ]
  },
  {
   "cell_type": "code",
   "execution_count": 30,
   "metadata": {},
   "outputs": [
    {
     "data": {
      "image/png": "[encoded data removed]",
      "text/plain": [
       "<Figure size 450x262.5 with 1 Axes>"
      ]
     },
     "metadata": {},
     "output_type": "display_data"
    }
   ],
   "source": [
    "mean_series = gss_by_year[\"polviews\"].mean()\n",
    "plot_series_lowess(mean_series, \"C2\")\n",
    "decorate(ylabel=\"Mean (7 point scale)\", title=\"Mean of polviews\", xlabel=\"Year\")"
   ]
  },
  {
   "cell_type": "markdown",
   "metadata": {},
   "source": [
    "One reason the PMFs for 1974 and 2022 did not look very different is that the mean went up (more conservative) and then down again (more liberal).\n",
    "Generally, it looks like the U.S. has been trending toward liberal for the last 20 years, or more, at least in the sense of how people describe themselves."
   ]
  },
  {
   "cell_type": "markdown",
   "metadata": {},
   "source": [
    "**Exercise:** Use `plot_series_lowess` to plot the standard deviation of `polviews` with a smooth line."
   ]
  },
  {
   "cell_type": "code",
   "execution_count": 31,
   "metadata": {
    "tags": [
     "remove-cell"
    ]
   },
   "outputs": [
    {
     "data": {
      "image/png": "[encoded data removed]",
      "text/plain": [
       "<Figure size 450x262.5 with 1 Axes>"
      ]
     },
     "metadata": {},
     "output_type": "display_data"
    }
   ],
   "source": [
    "# Solution\n",
    "\n",
    "std_series = gss_by_year[\"polviews\"].std()\n",
    "plot_series_lowess(std_series, color=\"C4\")\n",
    "decorate(\n",
    "    ylabel=\"Standard deviation (7 point scale)\",\n",
    "    title=\"Standard deviation of polviews\",\n",
    "    xlabel=\"Year\",\n",
    ")"
   ]
  },
  {
   "cell_type": "markdown",
   "metadata": {},
   "source": [
    "## Cross Tabulation\n",
    "\n",
    "In the previous sections, we treated `polviews` as a numerical quantity, so we were able to compute means and standard deviations.\n",
    "But the responses are really categorical, which means that each value represents a discrete category, like \"liberal\" or \"conservative\".\n",
    "In this section, we'll treat `polviews` as a categorical variable.\n",
    "Specifically, we'll compute the number of respondents in each category for each year, and plot changes over time.\n",
    "\n",
    "Pandas provides a function called `crosstab` that computes a **cross tabulation**, which is like a two-dimensional PMF.\n",
    "It takes two `Series` objects as arguments and returns a `DataFrame`."
   ]
  },
  {
   "cell_type": "code",
   "execution_count": 32,
   "metadata": {},
   "outputs": [],
   "source": [
    "year = gss[\"year\"]\n",
    "column = gss[\"polviews\"]\n",
    "\n",
    "xtab = pd.crosstab(year, column)"
   ]
  },
  {
   "cell_type": "markdown",
   "metadata": {},
   "source": [
    "Here are the first few lines from the result."
   ]
  },
  {
   "cell_type": "code",
   "execution_count": 33,
   "metadata": {},
   "outputs": [
    {
     "data": {
      "text/html": [
       "<div>\n",
       "<style scoped>\n",
       "    .dataframe tbody tr th:only-of-type {\n",
       "        vertical-align: middle;\n",
       "    }\n",
       "\n",
       "    .dataframe tbody tr th {\n",
       "        vertical-align: top;\n",
       "    }\n",
       "\n",
       "    .dataframe thead th {\n",
       "        text-align: right;\n",
       "    }\n",
       "</style>\n",
       "<table border=\"1\" class=\"dataframe\">\n",
       "  <thead>\n",
       "    <tr style=\"text-align: right;\">\n",
       "      <th>polviews</th>\n",
       "      <th>1.0</th>\n",
       "      <th>2.0</th>\n",
       "      <th>3.0</th>\n",
       "      <th>4.0</th>\n",
       "      <th>5.0</th>\n",
       "      <th>6.0</th>\n",
       "      <th>7.0</th>\n",
       "    </tr>\n",
       "    <tr>\n",
       "      <th>year</th>\n",
       "      <th></th>\n",
       "      <th></th>\n",
       "      <th></th>\n",
       "      <th></th>\n",
       "      <th></th>\n",
       "      <th></th>\n",
       "      <th></th>\n",
       "    </tr>\n",
       "  </thead>\n",
       "  <tbody>\n",
       "    <tr>\n",
       "      <th>1974</th>\n",
       "      <td>31</td>\n",
       "      <td>201</td>\n",
       "      <td>211</td>\n",
       "      <td>538</td>\n",
       "      <td>223</td>\n",
       "      <td>181</td>\n",
       "      <td>30</td>\n",
       "    </tr>\n",
       "    <tr>\n",
       "      <th>1975</th>\n",
       "      <td>56</td>\n",
       "      <td>184</td>\n",
       "      <td>207</td>\n",
       "      <td>540</td>\n",
       "      <td>204</td>\n",
       "      <td>162</td>\n",
       "      <td>45</td>\n",
       "    </tr>\n",
       "    <tr>\n",
       "      <th>1976</th>\n",
       "      <td>31</td>\n",
       "      <td>198</td>\n",
       "      <td>175</td>\n",
       "      <td>564</td>\n",
       "      <td>209</td>\n",
       "      <td>206</td>\n",
       "      <td>34</td>\n",
       "    </tr>\n",
       "    <tr>\n",
       "      <th>1977</th>\n",
       "      <td>37</td>\n",
       "      <td>181</td>\n",
       "      <td>214</td>\n",
       "      <td>594</td>\n",
       "      <td>243</td>\n",
       "      <td>164</td>\n",
       "      <td>42</td>\n",
       "    </tr>\n",
       "    <tr>\n",
       "      <th>1978</th>\n",
       "      <td>21</td>\n",
       "      <td>140</td>\n",
       "      <td>255</td>\n",
       "      <td>559</td>\n",
       "      <td>265</td>\n",
       "      <td>187</td>\n",
       "      <td>25</td>\n",
       "    </tr>\n",
       "  </tbody>\n",
       "</table>\n",
       "</div>"
      ],
      "text/plain": [
       "polviews  1.0  2.0  3.0  4.0  5.0  6.0  7.0\n",
       "year                                       \n",
       "1974       31  201  211  538  223  181   30\n",
       "1975       56  184  207  540  204  162   45\n",
       "1976       31  198  175  564  209  206   34\n",
       "1977       37  181  214  594  243  164   42\n",
       "1978       21  140  255  559  265  187   25"
      ]
     },
     "execution_count": 33,
     "metadata": {},
     "output_type": "execute_result"
    }
   ],
   "source": [
    "xtab.head()"
   ]
  },
  {
   "cell_type": "markdown",
   "metadata": {},
   "source": [
    "It contains one row for each value of `year` and one column for each value of `polviews`.  Reading the first row, we see that in 1974, 31 people gave response 1, \"extremely liberal\", 201 people gave response 2, \"liberal\", and so on.\n",
    "\n",
    "The number of respondents varies from year to year, so we need to normalize the results, which means computing for each year the *fraction* of respondents in each category, rather than the count.\n",
    "\n",
    "`crosstab` takes an optional argument that normalizes each row."
   ]
  },
  {
   "cell_type": "code",
   "execution_count": 34,
   "metadata": {},
   "outputs": [],
   "source": [
    "xtab_norm = pd.crosstab(year, column, normalize=\"index\")"
   ]
  },
  {
   "cell_type": "markdown",
   "metadata": {},
   "source": [
    "Here's what that looks like for the 7-point scale."
   ]
  },
  {
   "cell_type": "code",
   "execution_count": 35,
   "metadata": {},
   "outputs": [
    {
     "data": {
      "text/html": [
       "<div>\n",
       "<style scoped>\n",
       "    .dataframe tbody tr th:only-of-type {\n",
       "        vertical-align: middle;\n",
       "    }\n",
       "\n",
       "    .dataframe tbody tr th {\n",
       "        vertical-align: top;\n",
       "    }\n",
       "\n",
       "    .dataframe thead th {\n",
       "        text-align: right;\n",
       "    }\n",
       "</style>\n",
       "<table border=\"1\" class=\"dataframe\">\n",
       "  <thead>\n",
       "    <tr style=\"text-align: right;\">\n",
       "      <th>polviews</th>\n",
       "      <th>1.0</th>\n",
       "      <th>2.0</th>\n",
       "      <th>3.0</th>\n",
       "      <th>4.0</th>\n",
       "      <th>5.0</th>\n",
       "      <th>6.0</th>\n",
       "      <th>7.0</th>\n",
       "    </tr>\n",
       "    <tr>\n",
       "      <th>year</th>\n",
       "      <th></th>\n",
       "      <th></th>\n",
       "      <th></th>\n",
       "      <th></th>\n",
       "      <th></th>\n",
       "      <th></th>\n",
       "      <th></th>\n",
       "    </tr>\n",
       "  </thead>\n",
       "  <tbody>\n",
       "    <tr>\n",
       "      <th>1974</th>\n",
       "      <td>0.021908</td>\n",
       "      <td>0.142049</td>\n",
       "      <td>0.149117</td>\n",
       "      <td>0.380212</td>\n",
       "      <td>0.157597</td>\n",
       "      <td>0.127915</td>\n",
       "      <td>0.021201</td>\n",
       "    </tr>\n",
       "    <tr>\n",
       "      <th>1975</th>\n",
       "      <td>0.040057</td>\n",
       "      <td>0.131617</td>\n",
       "      <td>0.148069</td>\n",
       "      <td>0.386266</td>\n",
       "      <td>0.145923</td>\n",
       "      <td>0.115880</td>\n",
       "      <td>0.032189</td>\n",
       "    </tr>\n",
       "    <tr>\n",
       "      <th>1976</th>\n",
       "      <td>0.021877</td>\n",
       "      <td>0.139732</td>\n",
       "      <td>0.123500</td>\n",
       "      <td>0.398024</td>\n",
       "      <td>0.147495</td>\n",
       "      <td>0.145378</td>\n",
       "      <td>0.023994</td>\n",
       "    </tr>\n",
       "    <tr>\n",
       "      <th>1977</th>\n",
       "      <td>0.025085</td>\n",
       "      <td>0.122712</td>\n",
       "      <td>0.145085</td>\n",
       "      <td>0.402712</td>\n",
       "      <td>0.164746</td>\n",
       "      <td>0.111186</td>\n",
       "      <td>0.028475</td>\n",
       "    </tr>\n",
       "    <tr>\n",
       "      <th>1978</th>\n",
       "      <td>0.014463</td>\n",
       "      <td>0.096419</td>\n",
       "      <td>0.175620</td>\n",
       "      <td>0.384986</td>\n",
       "      <td>0.182507</td>\n",
       "      <td>0.128788</td>\n",
       "      <td>0.017218</td>\n",
       "    </tr>\n",
       "  </tbody>\n",
       "</table>\n",
       "</div>"
      ],
      "text/plain": [
       "polviews       1.0       2.0       3.0       4.0       5.0       6.0       7.0\n",
       "year                                                                          \n",
       "1974      0.021908  0.142049  0.149117  0.380212  0.157597  0.127915  0.021201\n",
       "1975      0.040057  0.131617  0.148069  0.386266  0.145923  0.115880  0.032189\n",
       "1976      0.021877  0.139732  0.123500  0.398024  0.147495  0.145378  0.023994\n",
       "1977      0.025085  0.122712  0.145085  0.402712  0.164746  0.111186  0.028475\n",
       "1978      0.014463  0.096419  0.175620  0.384986  0.182507  0.128788  0.017218"
      ]
     },
     "execution_count": 35,
     "metadata": {},
     "output_type": "execute_result"
    }
   ],
   "source": [
    "xtab_norm.head()"
   ]
  },
  {
   "cell_type": "markdown",
   "metadata": {},
   "source": [
    "Looking at the numbers in the table, it's hard to see what's going on.\n",
    "In the next section, we'll plot the results."
   ]
  },
  {
   "cell_type": "markdown",
   "metadata": {},
   "source": [
    "To make the results easier to interpret, I'm going to replace the numeric codes 1-7 with strings.  First I'll make a dictionary that maps from numbers to strings:"
   ]
  },
  {
   "cell_type": "code",
   "execution_count": 36,
   "metadata": {},
   "outputs": [],
   "source": [
    "# recode the 7 point scale with words\n",
    "d7 = {\n",
    "    1: \"Extremely liberal\",\n",
    "    2: \"Liberal\",\n",
    "    3: \"Slightly liberal\",\n",
    "    4: \"Moderate\",\n",
    "    5: \"Slightly conservative\",\n",
    "    6: \"Conservative\",\n",
    "    7: \"Extremely conservative\",\n",
    "}"
   ]
  },
  {
   "cell_type": "markdown",
   "metadata": {},
   "source": [
    "Then we can use the `replace` function like this:"
   ]
  },
  {
   "cell_type": "code",
   "execution_count": 37,
   "metadata": {},
   "outputs": [],
   "source": [
    "polviews7 = gss[\"polviews\"].replace(d7)"
   ]
  },
  {
   "cell_type": "markdown",
   "metadata": {},
   "source": [
    "We can use `values` to confirm that the values in `polviews7` are strings."
   ]
  },
  {
   "cell_type": "code",
   "execution_count": 38,
   "metadata": {},
   "outputs": [
    {
     "data": {
      "text/plain": [
       "Conservative               9612\n",
       "Extremely conservative     2145\n",
       "Extremely liberal          2095\n",
       "Liberal                    7309\n",
       "Moderate                  24157\n",
       "Slightly conservative      9816\n",
       "Slightly liberal           7799\n",
       "Name: polviews, dtype: int64"
      ]
     },
     "execution_count": 38,
     "metadata": {},
     "output_type": "execute_result"
    }
   ],
   "source": [
    "values(polviews7)"
   ]
  },
  {
   "cell_type": "markdown",
   "metadata": {},
   "source": [
    "If we make the cross tabulation again, we can see that the column names are strings."
   ]
  },
  {
   "cell_type": "code",
   "execution_count": 39,
   "metadata": {},
   "outputs": [
    {
     "data": {
      "text/html": [
       "<div>\n",
       "<style scoped>\n",
       "    .dataframe tbody tr th:only-of-type {\n",
       "        vertical-align: middle;\n",
       "    }\n",
       "\n",
       "    .dataframe tbody tr th {\n",
       "        vertical-align: top;\n",
       "    }\n",
       "\n",
       "    .dataframe thead th {\n",
       "        text-align: right;\n",
       "    }\n",
       "</style>\n",
       "<table border=\"1\" class=\"dataframe\">\n",
       "  <thead>\n",
       "    <tr style=\"text-align: right;\">\n",
       "      <th>polviews</th>\n",
       "      <th>Conservative</th>\n",
       "      <th>Extremely conservative</th>\n",
       "      <th>Extremely liberal</th>\n",
       "      <th>Liberal</th>\n",
       "      <th>Moderate</th>\n",
       "      <th>Slightly conservative</th>\n",
       "      <th>Slightly liberal</th>\n",
       "    </tr>\n",
       "    <tr>\n",
       "      <th>year</th>\n",
       "      <th></th>\n",
       "      <th></th>\n",
       "      <th></th>\n",
       "      <th></th>\n",
       "      <th></th>\n",
       "      <th></th>\n",
       "      <th></th>\n",
       "    </tr>\n",
       "  </thead>\n",
       "  <tbody>\n",
       "    <tr>\n",
       "      <th>1974</th>\n",
       "      <td>0.127915</td>\n",
       "      <td>0.021201</td>\n",
       "      <td>0.021908</td>\n",
       "      <td>0.142049</td>\n",
       "      <td>0.380212</td>\n",
       "      <td>0.157597</td>\n",
       "      <td>0.149117</td>\n",
       "    </tr>\n",
       "    <tr>\n",
       "      <th>1975</th>\n",
       "      <td>0.115880</td>\n",
       "      <td>0.032189</td>\n",
       "      <td>0.040057</td>\n",
       "      <td>0.131617</td>\n",
       "      <td>0.386266</td>\n",
       "      <td>0.145923</td>\n",
       "      <td>0.148069</td>\n",
       "    </tr>\n",
       "    <tr>\n",
       "      <th>1976</th>\n",
       "      <td>0.145378</td>\n",
       "      <td>0.023994</td>\n",
       "      <td>0.021877</td>\n",
       "      <td>0.139732</td>\n",
       "      <td>0.398024</td>\n",
       "      <td>0.147495</td>\n",
       "      <td>0.123500</td>\n",
       "    </tr>\n",
       "    <tr>\n",
       "      <th>1977</th>\n",
       "      <td>0.111186</td>\n",
       "      <td>0.028475</td>\n",
       "      <td>0.025085</td>\n",
       "      <td>0.122712</td>\n",
       "      <td>0.402712</td>\n",
       "      <td>0.164746</td>\n",
       "      <td>0.145085</td>\n",
       "    </tr>\n",
       "    <tr>\n",
       "      <th>1978</th>\n",
       "      <td>0.128788</td>\n",
       "      <td>0.017218</td>\n",
       "      <td>0.014463</td>\n",
       "      <td>0.096419</td>\n",
       "      <td>0.384986</td>\n",
       "      <td>0.182507</td>\n",
       "      <td>0.175620</td>\n",
       "    </tr>\n",
       "  </tbody>\n",
       "</table>\n",
       "</div>"
      ],
      "text/plain": [
       "polviews  Conservative  Extremely conservative  Extremely liberal   Liberal  \\\n",
       "year                                                                          \n",
       "1974          0.127915                0.021201           0.021908  0.142049   \n",
       "1975          0.115880                0.032189           0.040057  0.131617   \n",
       "1976          0.145378                0.023994           0.021877  0.139732   \n",
       "1977          0.111186                0.028475           0.025085  0.122712   \n",
       "1978          0.128788                0.017218           0.014463  0.096419   \n",
       "\n",
       "polviews  Moderate  Slightly conservative  Slightly liberal  \n",
       "year                                                         \n",
       "1974      0.380212               0.157597          0.149117  \n",
       "1975      0.386266               0.145923          0.148069  \n",
       "1976      0.398024               0.147495          0.123500  \n",
       "1977      0.402712               0.164746          0.145085  \n",
       "1978      0.384986               0.182507          0.175620  "
      ]
     },
     "execution_count": 39,
     "metadata": {},
     "output_type": "execute_result"
    }
   ],
   "source": [
    "xtab_norm = pd.crosstab(year, polviews7, normalize=\"index\")\n",
    "xtab_norm.head()"
   ]
  },
  {
   "cell_type": "markdown",
   "metadata": {},
   "source": [
    "We are almost ready to plot the results, but first we need some colors."
   ]
  },
  {
   "cell_type": "markdown",
   "metadata": {},
   "source": [
    "## Color Palettes\n",
    "\n",
    "To represent political views, we'll use a color palette from blue to purple to red.\n",
    "Seaborn provides a variety of color palettes -- we'll start with this one, which includes shades of blue and red."
   ]
  },
  {
   "cell_type": "markdown",
   "metadata": {},
   "source": [
    "[You can read more about Seaborn's color palettes here](https://seaborn.pydata.org/tutorial/color_palettes.html)."
   ]
  },
  {
   "cell_type": "code",
   "execution_count": 40,
   "metadata": {},
   "outputs": [
    {
     "data": {
      "image/png": "[encoded data removed]",
      "text/plain": [
       "<Figure size 525x75 with 1 Axes>"
      ]
     },
     "metadata": {},
     "output_type": "display_data"
    }
   ],
   "source": [
    "palette = sns.color_palette(\"RdBu_r\", 7)\n",
    "sns.palplot(palette)"
   ]
  },
  {
   "cell_type": "markdown",
   "metadata": {},
   "source": [
    "To represent moderates, we'll replace the middle color with purple."
   ]
  },
  {
   "cell_type": "code",
   "execution_count": 41,
   "metadata": {},
   "outputs": [
    {
     "data": {
      "image/png": "[encoded data removed]",
      "text/plain": [
       "<Figure size 525x75 with 1 Axes>"
      ]
     },
     "metadata": {},
     "output_type": "display_data"
    }
   ],
   "source": [
    "palette[3] = \"purple\"\n",
    "sns.palplot(palette)"
   ]
  },
  {
   "cell_type": "markdown",
   "metadata": {},
   "source": [
    "Now I'll make a dictionary that maps from the responses to the corresponding colors."
   ]
  },
  {
   "cell_type": "code",
   "execution_count": 42,
   "metadata": {},
   "outputs": [],
   "source": [
    "groups = [\n",
    "    \"Extremely liberal\",\n",
    "    \"Liberal\",\n",
    "    \"Slightly liberal\",\n",
    "    \"Moderate\",\n",
    "    \"Slightly conservative\",\n",
    "    \"Conservative\",\n",
    "    \"Extremely conservative\",\n",
    "]\n",
    "\n",
    "color_map = dict(zip(group, palette))"
   ]
  },
  {
   "cell_type": "code",
   "execution_count": 43,
   "metadata": {
    "tags": [
     "remove-print"
    ]
   },
   "outputs": [
    {
     "name": "stdout",
     "output_type": "stream",
     "text": [
      "abany (0.16339869281045757, 0.44498269896193776, 0.6975009611687812)\n",
      "abdefect (0.4206843521722416, 0.6764321414840447, 0.8186851211072664)\n",
      "abhlth (0.7614763552479817, 0.8685121107266438, 0.924567474048443)\n",
      "abnomore purple\n",
      "abpoor (0.9824682814302191, 0.8006920415224913, 0.7061130334486736)\n",
      "abrape (0.8945790080738177, 0.5038062283737024, 0.39976931949250283)\n",
      "absingle (0.7284890426758939, 0.15501730103806227, 0.1973856209150327)\n"
     ]
    }
   ],
   "source": [
    "for key, value in color_map.items():\n",
    "    print(key, value)"
   ]
  },
  {
   "cell_type": "markdown",
   "metadata": {},
   "source": [
    "Now we're ready to plot."
   ]
  },
  {
   "cell_type": "markdown",
   "metadata": {},
   "source": [
    "## Plotting a Cross Tabulation\n",
    "\n",
    "To see how the fraction of people with each political alignment has changed over time,\n",
    "we'll use `plot_series_lowess` to plot the columns from `xtab_norm`.\n",
    "Here are the seven categories plotted as a function of time.\n",
    "The `bbox_to_anchor` argument passed to `plt.legend` puts the legend outside the axes of the figure."
   ]
  },
  {
   "cell_type": "code",
   "execution_count": 46,
   "metadata": {},
   "outputs": [
    {
     "data": {
      "text/plain": [
       "year\n",
       "1974    0.021908\n",
       "1975    0.040057\n",
       "1976    0.021877\n",
       "1977    0.025085\n",
       "1978    0.014463\n",
       "1980    0.028792\n",
       "1982    0.029176\n",
       "1983    0.027202\n",
       "1984    0.023961\n",
       "1985    0.026585\n",
       "1986    0.016937\n",
       "1987    0.038984\n",
       "1988    0.025281\n",
       "1989    0.027643\n",
       "1990    0.039544\n",
       "1991    0.024490\n",
       "1993    0.026065\n",
       "1994    0.019404\n",
       "1996    0.026007\n",
       "1998    0.021237\n",
       "2000    0.033534\n",
       "2002    0.031502\n",
       "2004    0.031603\n",
       "2006    0.030911\n",
       "2008    0.033661\n",
       "2010    0.038481\n",
       "2012    0.045769\n",
       "2014    0.037674\n",
       "2016    0.051487\n",
       "2018    0.039415\n",
       "2021    0.053644\n",
       "2022    0.053660\n",
       "Name: Extremely liberal, dtype: float64"
      ]
     },
     "execution_count": 46,
     "metadata": {},
     "output_type": "execute_result"
    }
   ],
   "source": [
    "xtab_norm['Extremely liberal']"
   ]
  },
  {
   "cell_type": "code",
   "execution_count": 44,
   "metadata": {
    "scrolled": true
   },
   "outputs": [
    {
     "name": "stdout",
     "output_type": "stream",
     "text": [
      "Extremely liberal\n"
     ]
    },
    {
     "ename": "KeyError",
     "evalue": "'Extremely liberal'",
     "output_type": "error",
     "traceback": [
      "\u001b[0;31mKeyError\u001b[0m\u001b[0;31m:\u001b[0m 'Extremely liberal'\n"
     ]
    }
   ],
   "source": [
    "for group in groups:\n",
    "    print(group)\n",
    "    series = xtab_norm[group]\n",
    "    plot_series_lowess(series, color_map[group])\n",
    "\n",
    "decorate(\n",
    "    xlabel=\"Year\",\n",
    "    ylabel=\"Proportion\",\n",
    "    title=\"Fraction of respondents with each political view\",\n",
    ")\n",
    "\n",
    "plt.legend(bbox_to_anchor=(1.02, 1.02));"
   ]
  },
  {
   "cell_type": "markdown",
   "metadata": {},
   "source": [
    "This way of looking at the results suggests that changes in political alignment during this period have generally been slow and small.\n",
    "The fraction of self-described moderates has not changed substantially.\n",
    "The fraction of conservatives increased, but seems to be decreasing now; the number of liberals seems to be increasing.\n",
    "\n",
    "The fraction of people at the extremes has increased, but it is hard to see clearly in this figure.\n",
    "We can get a better view by plotting just the extremes."
   ]
  },
  {
   "cell_type": "code",
   "execution_count": null,
   "metadata": {},
   "outputs": [],
   "source": [
    "selected_groups = [\"Extremely liberal\", \"Extremely conservative\"]\n",
    "\n",
    "for group in selected_groups:\n",
    "    series = xtab_norm[group]\n",
    "    plot_series_lowess(series, color_map[group])\n",
    "\n",
    "decorate(\n",
    "    xlabel=\"Year\",\n",
    "    ylabel=\"Proportion\",\n",
    "    ylim=[0, 0.065],\n",
    "    title=\"Fraction of respondents with extreme political views\",\n",
    ")"
   ]
  },
  {
   "cell_type": "markdown",
   "metadata": {},
   "source": [
    "I used `ylim` to set the limits of the y-axis so it starts at zero, to avoid making the changes seem bigger than they are.\n",
    "This figure shows that the fraction of people who describe themselves as \"extreme\" has increased from about 2.5% to about 5%.\n",
    "In relative terms, that's a big increase.\n",
    "But in absolute terms these tails of the distribution are still small."
   ]
  },
  {
   "cell_type": "markdown",
   "metadata": {},
   "source": [
    "**Exercise:** Let's do a similar analysis with `partyid`, which encodes responses to the question:\n",
    "\n",
    ">Generally speaking, do you usually think of yourself as a Republican, Democrat, Independent, or what?\n",
    "\n",
    "The valid responses are:\n",
    "\n",
    "| Code  | Response                |\n",
    "|-------|:------------------------|\n",
    "| 0     | Strong democrat         |\n",
    "| 1     | Not str democrat        |\n",
    "| 2     | Ind, near dem           |\n",
    "| 3     | Independent             |\n",
    "| 4     | Ind, near rep           |\n",
    "| 5     | Not str republican      |\n",
    "| 6     | Strong republican       |\n",
    "| 7     | Other party             |\n",
    "\n",
    "In the notebook for this chapter, there are some suggestions to get you started."
   ]
  },
  {
   "cell_type": "markdown",
   "metadata": {
    "tags": [
     "remove-print"
    ]
   },
   "source": [
    "Here are the steps I suggest:\n",
    "\n",
    "1) If you have not already saved this notebook, you should do that first.  If you are running on Colab, select \"Save a copy in Drive\" from the File menu.\n",
    "\n",
    "2) Now, before you modify this notebook, make *another* copy and give it an appropriate name.\n",
    "\n",
    "3) Search and replace `polviews` with `partyid` (use \"Edit->Find and replace\").\n",
    "\n",
    "4) Run the notebook from the beginning and see what other changes you have to make.\n",
    "\n",
    "You will have to make changes in `d7` and `groups`.  Otherwise you might get a message like \n",
    "\n",
    "`TypeError: '<' not supported between instances of 'float' and 'str'`\n",
    "\n",
    "Also, you might have to drop \"Other party\" or change the color palette.\n",
    "And you should change the titles of the figures.\n",
    "\n",
    "What changes in party affiliation do you see over the last 50 years?  Are things going in the directions you expected?"
   ]
  },
  {
   "cell_type": "markdown",
   "metadata": {},
   "source": [
    "## Summary\n",
    "\n",
    "This chapter introduces two new tools: local regression for computing a smooth curve through noisy data, and cross tabulation for counting the number of people, or fraction, in each group over time.\n",
    "\n",
    "Now that we have a sense of how political alignment as changed, in the next chapter we'll explore the relationship between political alignment and other beliefs and attitudes."
   ]
  },
  {
   "cell_type": "markdown",
   "metadata": {
    "tags": [
     "remove-cell"
    ]
   },
   "source": [
    "Political Alignment Case Study\n",
    "\n",
    "Copyright 2020 Allen B. Downey\n",
    "\n",
    "License: [Attribution-NonCommercial-ShareAlike 4.0 International (CC BY-NC-SA 4.0)](https://creativecommons.org/licenses/by-nc-sa/4.0/)"
   ]
  }
 ],
 "metadata": {
  "celltoolbar": "Tags",
  "kernelspec": {
   "display_name": "Python 3 (ipykernel)",
   "language": "python",
   "name": "python3"
  },
  "language_info": {
   "codemirror_mode": {
    "name": "ipython",
    "version": 3
   },
   "file_extension": ".py",
   "mimetype": "text/x-python",
   "name": "python",
   "nbconvert_exporter": "python",
   "pygments_lexer": "ipython3",
   "version": "3.8.16"
  }
 },
 "nbformat": 4,
 "nbformat_minor": 4
}
